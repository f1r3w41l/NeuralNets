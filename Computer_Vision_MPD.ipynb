{
 "cells": [
  {
   "cell_type": "markdown",
   "id": "d5d48fe4-6c1a-4a7d-ad76-b6e3edc91f86",
   "metadata": {},
   "source": [
    "Take a dataset.\n",
    "Train it\n",
    "Get clean Accuracy on the Test set.\n",
    "Use one attack and generate the AEs.\n",
    "Get the reduced Acc.\n",
    "Pass the AEs to MPD and verify whether it detects them all as AEs or not.\n"
   ]
  },
  {
   "cell_type": "code",
   "execution_count": 22,
   "id": "248c0ebe-31ec-4e86-9ca5-1c66369d4b4b",
   "metadata": {},
   "outputs": [],
   "source": [
    "import torch.nn as nn\n",
    "import torch.nn.functional as F\n",
    "import torch.optim as optim\n",
    "import numpy as np\n",
    "from importlib import reload \n",
    "from art.attacks.evasion import FastGradientMethod\n",
    "from art.attacks.evasion import AutoProjectedGradientDescent,ProjectedGradientDescent,AdversarialPatch\n",
    "from art.estimators.classification import PyTorchClassifier\n",
    "from art.utils import load_mnist\n",
    "from sklearn.tree import DecisionTreeClassifier\n",
    "from multi_MPD import UncertaintyTrainer"
   ]
  },
  {
   "cell_type": "code",
   "execution_count": 23,
   "id": "e4cbdcba-cd5c-4a1d-8e70-2e3fdd25852d",
   "metadata": {},
   "outputs": [],
   "source": [
    "# Step 0: Define the neural network model\n",
    "\n",
    "class Net(nn.Module):\n",
    "    def __init__(self):\n",
    "        super(Net, self).__init__()\n",
    "        self.conv_1 = nn.Conv2d(in_channels=1, out_channels=4, kernel_size=5, stride=1)\n",
    "        self.conv_2 = nn.Conv2d(in_channels=4, out_channels=10, kernel_size=5, stride=1)\n",
    "        self.fc_1 = nn.Linear(in_features=4 * 4 * 10, out_features=100)\n",
    "        self.fc_2 = nn.Linear(in_features=100, out_features=10)\n",
    "\n",
    "    def forward(self, x):\n",
    "        x = F.relu(self.conv_1(x))\n",
    "        x = F.max_pool2d(x, 2, 2)\n",
    "        x = F.relu(self.conv_2(x))\n",
    "        x = F.max_pool2d(x, 2, 2)\n",
    "        x = x.view(-1, 4 * 4 * 10)\n",
    "        x = F.relu(self.fc_1(x))\n",
    "        x = self.fc_2(x)\n",
    "        return x"
   ]
  },
  {
   "cell_type": "code",
   "execution_count": 24,
   "id": "13793a4a-6fa4-4a76-b0ff-bbdbaf80406c",
   "metadata": {},
   "outputs": [],
   "source": [
    "# Step 1: Load the MNIST dataset\n",
    "\n",
    "(x_train, y_train), (x_test, y_test), min_pixel_value, max_pixel_value = load_mnist()\n",
    "\n",
    "# Step 1a: Swap axes to PyTorch's NCHW format\n",
    "\n",
    "x_train = np.transpose(x_train, (0, 3, 1, 2)).astype(np.float32)\n",
    "x_test = np.transpose(x_test, (0, 3, 1, 2)).astype(np.float32)"
   ]
  },
  {
   "cell_type": "code",
   "execution_count": 25,
   "id": "79adce6f-34aa-4453-ab01-1952221d4f2a",
   "metadata": {},
   "outputs": [],
   "source": [
    "# Step 2: Create the model\n",
    "\n",
    "model = Net()\n",
    "\n",
    "# Step 2a: Define the loss function and the optimizer\n",
    "\n",
    "criterion = nn.CrossEntropyLoss()\n",
    "optimizer = optim.Adam(model.parameters(), lr=0.01)"
   ]
  },
  {
   "cell_type": "code",
   "execution_count": 26,
   "id": "2beb7236-b641-4a3b-8a64-46a9f4c4a626",
   "metadata": {},
   "outputs": [],
   "source": [
    "# Step 3: Create the ART classifier\n",
    "\n",
    "classifier = PyTorchClassifier(\n",
    "    model=model,\n",
    "    clip_values=(min_pixel_value, max_pixel_value),\n",
    "    loss=criterion,\n",
    "    optimizer=optimizer,\n",
    "    input_shape=(1, 28, 28),\n",
    "    nb_classes=10,\n",
    ")"
   ]
  },
  {
   "cell_type": "code",
   "execution_count": 27,
   "id": "7bb0023a-ac50-411d-bbf5-ca1fde6ca6a1",
   "metadata": {},
   "outputs": [],
   "source": [
    "# Step 4: Train the ART classifier\n",
    "\n",
    "classifier.fit(x_train, y_train, batch_size=64, nb_epochs=4)\n"
   ]
  },
  {
   "cell_type": "code",
   "execution_count": 28,
   "id": "2f4d928e-2199-4fc6-a9b3-23b625cecd3a",
   "metadata": {},
   "outputs": [
    {
     "name": "stdout",
     "output_type": "stream",
     "text": [
      "Accuracy on benign test examples: 97.85000000000001%\n"
     ]
    }
   ],
   "source": [
    "# Step 5: Evaluate the ART classifier on benign test examples\n",
    "\n",
    "predictions = classifier.predict(x_test)\n",
    "accuracy = np.sum(np.argmax(predictions, axis=1) == np.argmax(y_test, axis=1)) / len(y_test)\n",
    "print(\"Accuracy on benign test examples: {}%\".format(accuracy * 100))\n"
   ]
  },
  {
   "cell_type": "code",
   "execution_count": 29,
   "id": "3b4a478e-afca-43f0-870d-566b8a96e5fb",
   "metadata": {},
   "outputs": [],
   "source": [
    "from art.attacks.evasion import BasicIterativeMethod"
   ]
  },
  {
   "cell_type": "code",
   "execution_count": 30,
   "id": "1958e9a2-88bc-4a95-9a06-463ebad9d0ba",
   "metadata": {},
   "outputs": [
    {
     "data": {
      "application/vnd.jupyter.widget-view+json": {
       "model_id": "",
       "version_major": 2,
       "version_minor": 0
      },
      "text/plain": [
       "PGD - Batches:   0%|          | 0/313 [00:00<?, ?it/s]"
      ]
     },
     "metadata": {},
     "output_type": "display_data"
    },
    {
     "name": "stdout",
     "output_type": "stream",
     "text": [
      "Accuracy on adversarial test examples: 1.3599999999999999%\n"
     ]
    }
   ],
   "source": [
    "# Create the BIM attack instance\n",
    "bim = BasicIterativeMethod(classifier, eps=0.3, eps_step=0.1, max_iter=50)\n",
    "\n",
    "# Generate adversarial examples on the test set\n",
    "x_test_adv_bim = bim.generate(x_test)\n",
    "\n",
    "# Evaluate the ART classifier on the adversarial test examples\n",
    "adv_predictions = classifier.predict(x_test_adv_bim)\n",
    "accuracy_adv = np.sum(np.argmax(adv_predictions, axis=1) == np.argmax(y_test, axis=1)) / len(y_test)\n",
    "print(\"Accuracy on adversarial test examples: {}%\".format(accuracy_adv * 100))"
   ]
  },
  {
   "cell_type": "markdown",
   "id": "ae65fdd8-a164-4e0f-8d4a-74b77587c44e",
   "metadata": {},
   "source": [
    "----------------------"
   ]
  },
  {
   "cell_type": "markdown",
   "id": "18e0bf73-be13-4afd-8a5a-ae6220977123",
   "metadata": {},
   "source": [
    "# MPD"
   ]
  },
  {
   "cell_type": "code",
   "execution_count": 31,
   "id": "3eb4ced6-93d2-4541-8fd1-c598d40441bf",
   "metadata": {},
   "outputs": [],
   "source": [
    "#data seperation to samples and features\n",
    "n_samples_train = x_train.shape[0]\n",
    "n_features_train = x_train.shape[1] * x_train.shape[2] * x_train.shape[3] #this gives an output of features 28*28*1= 784\n",
    "\n",
    "n_samples_test = x_test.shape[0]\n",
    "n_features_test = x_test.shape[1] * x_test.shape[2] * x_test.shape[3]\n",
    "\n",
    "#data flattening which gives the output of (number of samples, 784 features)\n",
    "x_train_mpd = x_train.reshape(n_samples_train, n_features_train)\n",
    "x_test_mpd = x_test.reshape(n_samples_test, n_features_test)\n",
    "\n",
    "#data flattening using argmax to get the label value \n",
    "y_train_mpd = np.argmax(y_train, axis=1)\n",
    "y_test_mpd = np.argmax(y_test, axis=1)"
   ]
  },
  {
   "cell_type": "code",
   "execution_count": 49,
   "id": "e5cf6385-0277-44cf-8bf1-4d6fcf1d0a76",
   "metadata": {},
   "outputs": [
    {
     "name": "stdout",
     "output_type": "stream",
     "text": [
      "Shape of x train - (60000, 784)\n",
      "Shape of y train - (60000,)\n",
      "Shape of x test - (10000, 784)\n",
      "Shape of y test - (10000,)\n"
     ]
    }
   ],
   "source": [
    "print(f\"Shape of x train - {x_train_mpd.shape}\")\n",
    "print(f\"Shape of y train - {y_train_mpd.shape}\")\n",
    "print(f\"Shape of x test - {x_test_mpd.shape}\")\n",
    "print(f\"Shape of y test - {y_test_mpd.shape}\")"
   ]
  },
  {
   "cell_type": "code",
   "execution_count": null,
   "id": "5cf97b32-19a6-4135-94ad-49b4094649d5",
   "metadata": {},
   "outputs": [],
   "source": []
  },
  {
   "cell_type": "code",
   "execution_count": null,
   "id": "628e502c-9b93-4520-8d2b-ef9c4371e35b",
   "metadata": {},
   "outputs": [],
   "source": []
  },
  {
   "cell_type": "code",
   "execution_count": 58,
   "id": "f796f1bf-c696-41ae-87ff-7bd1b58ecbf9",
   "metadata": {},
   "outputs": [],
   "source": [
    "x_train_10000=x_train_mpd[:10000]\n",
    "y_train_10000=y_train_mpd[:10000]\n",
    "x_test_100=x_test_mpd[:100]\n",
    "y_test_100=y_test_mpd[:100]"
   ]
  },
  {
   "cell_type": "code",
   "execution_count": 59,
   "id": "52e7830c-b41c-4eeb-9e61-e0c3b0421ce8",
   "metadata": {},
   "outputs": [
    {
     "name": "stdout",
     "output_type": "stream",
     "text": [
      "Shape of x train - (10000, 784)\n",
      "Shape of y train - (10000,)\n",
      "Shape of x test - (100, 784)\n",
      "Shape of y test - (100,)\n"
     ]
    }
   ],
   "source": [
    "print(f\"Shape of x train - {x_train_10000.shape}\")\n",
    "print(f\"Shape of y train - {y_train_10000.shape}\")\n",
    "print(f\"Shape of x test - {x_test_100.shape}\")\n",
    "print(f\"Shape of y test - {y_test_100.shape}\")"
   ]
  },
  {
   "cell_type": "code",
   "execution_count": 60,
   "id": "92cedb01-db12-49da-b1ba-a5d3f2507cd4",
   "metadata": {},
   "outputs": [],
   "source": [
    "#Initialize the base clf\n",
    "base_clf=DecisionTreeClassifier(max_depth=5)\n",
    "bootstrap_count=3\n",
    "mpd_detector= UncertaintyTrainer(x_train_10000,y_train_10000,base_clf,bootstrap_count)"
   ]
  },
  {
   "cell_type": "markdown",
   "id": "48936286-5515-4dc6-ac3e-3a35f0314aee",
   "metadata": {},
   "source": [
    "mpd_detector.bootstrap_clfs"
   ]
  },
  {
   "cell_type": "code",
   "execution_count": 62,
   "id": "5959aca2-db38-4be3-8f3e-04e5bdbb1616",
   "metadata": {},
   "outputs": [],
   "source": [
    "mpd_scores_normal=mpd_detector.get_mpd_score(x_test_100)"
   ]
  },
  {
   "cell_type": "code",
   "execution_count": 63,
   "id": "6af3f1ed-37cc-4466-9e19-f9adc1c00fa8",
   "metadata": {},
   "outputs": [
    {
     "data": {
      "text/plain": [
       "array([0.18592141, 0.50910494, 0.5202264 , 0.04171927, 0.45436079,\n",
       "       0.10176714, 0.74091778, 0.52638948, 0.15256669, 0.63685856,\n",
       "       0.04171927, 0.81201127, 0.3734317 , 0.04171927, 0.12178349,\n",
       "       0.49309698, 0.6984556 , 0.72787372, 0.72821755, 0.24042333,\n",
       "       0.49250819, 0.44788121, 0.60921849, 0.67146792, 0.24042333,\n",
       "       0.7370921 , 0.10289668, 0.24042333, 0.36642877, 0.46425768,\n",
       "       0.62648541, 0.62648541, 0.57007864, 0.57735027, 0.18592141,\n",
       "       0.15256669, 0.18592141, 0.46425768, 0.6654674 , 0.12178349,\n",
       "       0.58441106, 0.18592141, 0.71988935, 0.56201136, 0.62648541,\n",
       "       0.66413023, 0.62648541, 0.54696111, 0.63845138, 0.24042333,\n",
       "       0.33524184, 0.48586877, 0.60761597, 0.49309698, 0.78110072,\n",
       "       0.50910494, 0.24042333, 0.12178349, 0.3734317 , 0.52578989,\n",
       "       0.10289668, 0.17313601, 0.63423526, 0.58072538, 0.56220644,\n",
       "       0.24042333, 0.83854137, 0.24042333, 0.12382492, 0.510219  ,\n",
       "       0.72787372, 0.04171927, 0.50910494, 0.74743615, 0.12178349,\n",
       "       0.56168163, 0.36717142, 0.18592141, 0.78249049, 0.18592141,\n",
       "       0.62188917, 0.17313601, 0.15256669, 0.18592141, 0.81594609,\n",
       "       0.69991549, 0.18592141, 0.57007864, 0.60272893, 0.10176714,\n",
       "       0.12382492, 0.17313601, 0.56220644, 0.12382492, 0.71654515,\n",
       "       0.63685856, 0.66867391, 0.81031364, 0.74453243, 0.3734317 ])"
      ]
     },
     "execution_count": 63,
     "metadata": {},
     "output_type": "execute_result"
    }
   ],
   "source": [
    "mpd_scores_normal"
   ]
  },
  {
   "cell_type": "markdown",
   "id": "4161fc19-83ee-4e3c-9b81-e98ae46f2bf6",
   "metadata": {},
   "source": [
    "--------------------------\n"
   ]
  },
  {
   "cell_type": "markdown",
   "id": "5d6da93f-a274-4b4f-87ad-6b923391f2b6",
   "metadata": {},
   "source": [
    "# MPD SCORES ON AE"
   ]
  },
  {
   "cell_type": "markdown",
   "id": "b55dd356-1521-46ba-b228-03a0d722e24b",
   "metadata": {},
   "source": [
    "--------"
   ]
  },
  {
   "cell_type": "markdown",
   "id": "4c3af4a6-3f13-4277-bc9c-b034ab0756c6",
   "metadata": {},
   "source": [
    "### AEs conversion for MPD"
   ]
  },
  {
   "cell_type": "markdown",
   "id": "9cf58c04-c012-4cdf-8f45-fdb74ad2c20e",
   "metadata": {},
   "source": [
    "First 100 samples are definitely working 100%"
   ]
  },
  {
   "cell_type": "code",
   "execution_count": 71,
   "id": "b2153ba0-6a4f-4657-94a2-34052aa0d951",
   "metadata": {},
   "outputs": [
    {
     "name": "stdout",
     "output_type": "stream",
     "text": [
      "Accuracy on adversarial test examples: 0.0%\n"
     ]
    }
   ],
   "source": [
    "xxx=x_test_adv_bim[:100]\n",
    "xx=y_test[:100]\n",
    "# Evaluate the ART classifier on the adversarial test examples\n",
    "adv_predictions = classifier.predict(xxx)\n",
    "accuracy_adv = np.sum(np.argmax(adv_predictions, axis=1) == np.argmax(xx, axis=1)) / len(xx)\n",
    "print(\"Accuracy on adversarial test examples: {}%\".format(accuracy_adv * 100))"
   ]
  },
  {
   "cell_type": "code",
   "execution_count": 65,
   "id": "48dab250-9219-41a7-acf1-ac8055cc7923",
   "metadata": {},
   "outputs": [
    {
     "data": {
      "text/plain": [
       "(10000, 1, 28, 28)"
      ]
     },
     "execution_count": 65,
     "metadata": {},
     "output_type": "execute_result"
    }
   ],
   "source": [
    "x_test_adv_bim.shape"
   ]
  },
  {
   "cell_type": "code",
   "execution_count": 66,
   "id": "fc1356ca-345a-48f5-b747-2f256c4fbc2d",
   "metadata": {},
   "outputs": [],
   "source": [
    "n_samples_train = x_test_adv_bim.shape[0]\n",
    "n_features_train = x_test_adv_bim.shape[1] * x_test_adv_bim.shape[2] * x_test_adv_bim.shape[3] #this gives an output of features 28*28*1= 784\n",
    "x_adv_bim = x_test_adv_bim.reshape(n_samples_train, n_features_train)"
   ]
  },
  {
   "cell_type": "code",
   "execution_count": 67,
   "id": "3803715d-8a69-4ce9-8442-d61f13edcaa8",
   "metadata": {},
   "outputs": [
    {
     "data": {
      "text/plain": [
       "(10000, 784)"
      ]
     },
     "execution_count": 67,
     "metadata": {},
     "output_type": "execute_result"
    }
   ],
   "source": [
    "x_adv_bim.shape"
   ]
  },
  {
   "cell_type": "code",
   "execution_count": 68,
   "id": "616b49b0-f61c-4212-8561-e313f7a49192",
   "metadata": {},
   "outputs": [],
   "source": [
    "x_test_adv=x_adv_bim[:100]"
   ]
  },
  {
   "cell_type": "code",
   "execution_count": 72,
   "id": "8770dca8-427f-4e49-80a7-af746724ac1a",
   "metadata": {},
   "outputs": [
    {
     "data": {
      "text/plain": [
       "numpy.ndarray"
      ]
     },
     "execution_count": 72,
     "metadata": {},
     "output_type": "execute_result"
    }
   ],
   "source": [
    "type(x_test_adv)"
   ]
  },
  {
   "cell_type": "code",
   "execution_count": 73,
   "id": "7ca0a3d2-9d02-4852-90e3-4d27394c4b45",
   "metadata": {},
   "outputs": [
    {
     "data": {
      "text/plain": [
       "dtype('float32')"
      ]
     },
     "execution_count": 73,
     "metadata": {},
     "output_type": "execute_result"
    }
   ],
   "source": [
    "x_test_adv.dtype"
   ]
  },
  {
   "cell_type": "code",
   "execution_count": 69,
   "id": "076a6e66-d25c-4b48-8cda-dc60a2c072b4",
   "metadata": {},
   "outputs": [],
   "source": [
    "mpd_scores_adv=mpd_detector.get_mpd_score(x_test_adv)"
   ]
  },
  {
   "cell_type": "code",
   "execution_count": 70,
   "id": "1d6bd0a6-e402-41dc-b601-ca0169cfa46f",
   "metadata": {},
   "outputs": [
    {
     "data": {
      "text/plain": [
       "array([0.73532921, 0.50848077, 0.59056722, 0.76265076, 0.68205099,\n",
       "       0.64237948, 0.7752816 , 0.76362493, 0.50848077, 0.54668625,\n",
       "       0.73532921, 0.7070479 , 0.65874261, 0.65874261, 0.16026901,\n",
       "       0.50848077, 0.49804518, 0.72980177, 0.24669132, 0.68205099,\n",
       "       0.67011884, 0.70588989, 0.69792805, 0.73532921, 0.68205099,\n",
       "       0.65874261, 0.81656843, 0.73339577, 0.59103422, 0.66742641,\n",
       "       0.57293284, 0.16026901, 0.62154208, 0.78384343, 0.74993352,\n",
       "       0.59864146, 0.59864146, 0.70387121, 0.682465  , 0.56507616,\n",
       "       0.73325267, 0.56191168, 0.73135879, 0.53563207, 0.68125407,\n",
       "       0.2096331 , 0.58342458, 0.61459514, 0.50009556, 0.7799483 ,\n",
       "       0.57337359, 0.77150027, 0.3734317 , 0.77124176, 0.66382188,\n",
       "       0.50848077, 0.67146792, 0.58552182, 0.50848077, 0.65874261,\n",
       "       0.56230085, 0.76265076, 0.50848077, 0.57337359, 0.7799483 ,\n",
       "       0.63423526, 0.46394591, 0.72329257, 0.752716  , 0.68205099,\n",
       "       0.50848077, 0.59893081, 0.72690814, 0.68066169, 0.68250083,\n",
       "       0.50848077, 0.65792905, 0.59864146, 0.7070479 , 0.62188917,\n",
       "       0.3734317 , 0.65874261, 0.59864146, 0.56168163, 0.41817684,\n",
       "       0.70545723, 0.3734317 , 0.50009556, 0.73339577, 0.16026901,\n",
       "       0.16026901, 0.55289948, 0.3734317 , 0.2733248 , 0.62399695,\n",
       "       0.73135879, 0.36717142, 0.44841418, 0.7799483 , 0.50848077])"
      ]
     },
     "execution_count": 70,
     "metadata": {},
     "output_type": "execute_result"
    }
   ],
   "source": [
    "mpd_scores_adv"
   ]
  },
  {
   "cell_type": "markdown",
   "id": "88510b73-9b6b-4d22-87b5-a20999916c6c",
   "metadata": {},
   "source": [
    "---------------\n"
   ]
  },
  {
   "cell_type": "code",
   "execution_count": 98,
   "id": "e84c86ab-44c3-4280-a85f-10417347d0ba",
   "metadata": {},
   "outputs": [],
   "source": [
    "working_samples_100=np.empty(0, dtype=np.float32)"
   ]
  },
  {
   "cell_type": "code",
   "execution_count": 99,
   "id": "59141630-48e5-4af9-9f59-dcdef906811d",
   "metadata": {},
   "outputs": [
    {
     "data": {
      "text/plain": [
       "numpy.ndarray"
      ]
     },
     "execution_count": 99,
     "metadata": {},
     "output_type": "execute_result"
    }
   ],
   "source": [
    "type(working_samples_100)"
   ]
  },
  {
   "cell_type": "code",
   "execution_count": 100,
   "id": "d80b8608-c16f-43e9-8957-556efc14e20b",
   "metadata": {},
   "outputs": [
    {
     "data": {
      "text/plain": [
       "0"
      ]
     },
     "execution_count": 100,
     "metadata": {},
     "output_type": "execute_result"
    }
   ],
   "source": [
    "len(working_samples_100)"
   ]
  },
  {
   "cell_type": "code",
   "execution_count": 101,
   "id": "fc92199a-9712-4dd9-b33b-9e8724510054",
   "metadata": {},
   "outputs": [
    {
     "data": {
      "text/plain": [
       "dtype('float32')"
      ]
     },
     "execution_count": 101,
     "metadata": {},
     "output_type": "execute_result"
    }
   ],
   "source": [
    "working_samples_100.dtype"
   ]
  },
  {
   "cell_type": "code",
   "execution_count": 102,
   "id": "65c1404a-a69e-4577-8fd2-e6e221498a19",
   "metadata": {},
   "outputs": [],
   "source": [
    "\n"
   ]
  },
  {
   "cell_type": "code",
   "execution_count": null,
   "id": "c524a348-f065-4e4e-a1a3-e41dfab94ccc",
   "metadata": {},
   "outputs": [],
   "source": []
  },
  {
   "cell_type": "code",
   "execution_count": null,
   "id": "182a5cd5-9804-40cf-8682-3c7d89ea7416",
   "metadata": {},
   "outputs": [],
   "source": []
  },
  {
   "cell_type": "code",
   "execution_count": null,
   "id": "2bcf113a-4f7e-4033-8107-dc368769fd3b",
   "metadata": {},
   "outputs": [],
   "source": []
  },
  {
   "cell_type": "code",
   "execution_count": null,
   "id": "0830b3c5-8e09-470a-b46e-b29e597ee661",
   "metadata": {},
   "outputs": [],
   "source": []
  }
 ],
 "metadata": {
  "kernelspec": {
   "display_name": "Python 3 (ipykernel)",
   "language": "python",
   "name": "python3"
  },
  "language_info": {
   "codemirror_mode": {
    "name": "ipython",
    "version": 3
   },
   "file_extension": ".py",
   "mimetype": "text/x-python",
   "name": "python",
   "nbconvert_exporter": "python",
   "pygments_lexer": "ipython3",
   "version": "3.9.13"
  }
 },
 "nbformat": 4,
 "nbformat_minor": 5
}
