{
 "cells": [
  {
   "cell_type": "markdown",
   "id": "d01dd420-593a-44de-a81f-f13f4b044f7d",
   "metadata": {},
   "source": [
    "# ANDREJ PLAYLIST - VIDEO 3"
   ]
  },
  {
   "cell_type": "code",
   "execution_count": null,
   "id": "2ae01192-8d3a-4cc3-b773-26b06337fdba",
   "metadata": {},
   "outputs": [],
   "source": []
  }
 ],
 "metadata": {
  "kernelspec": {
   "display_name": "Python 3 (ipykernel)",
   "language": "python",
   "name": "python3"
  },
  "language_info": {
   "codemirror_mode": {
    "name": "ipython",
    "version": 3
   },
   "file_extension": ".py",
   "mimetype": "text/x-python",
   "name": "python",
   "nbconvert_exporter": "python",
   "pygments_lexer": "ipython3",
   "version": "3.9.13"
  }
 },
 "nbformat": 4,
 "nbformat_minor": 5
}
